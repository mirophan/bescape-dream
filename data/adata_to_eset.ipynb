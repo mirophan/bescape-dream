{
 "cells": [
  {
   "cell_type": "code",
   "execution_count": 1,
   "metadata": {},
   "outputs": [
    {
     "name": "stderr",
     "output_type": "stream",
     "text": [
      "/Users/mqp/miniconda3/envs/scanpy/lib/python3.7/site-packages/anndata/_core/anndata.py:21: FutureWarning: pandas.core.index is deprecated and will be removed in a future version.  The public classes are available in the top-level namespace.\n",
      "  from pandas.core.index import RangeIndex\n",
      "/Users/mqp/miniconda3/envs/scanpy/lib/python3.7/site-packages/sklearn/utils/deprecation.py:144: FutureWarning: The sklearn.cluster.k_means_ module is  deprecated in version 0.22 and will be removed in version 0.24. The corresponding classes / functions should instead be imported from sklearn.cluster. Anything that cannot be imported from sklearn.cluster is now part of the private API.\n",
      "  warnings.warn(message, FutureWarning)\n"
     ]
    }
   ],
   "source": [
    "import pandas as pd\n",
    "import numpy as np\n",
    "import scanpy as sc\n",
    "from geosketch import gs\n",
    "import os\n",
    "import anndata"
   ]
  },
  {
   "cell_type": "code",
   "execution_count": null,
   "metadata": {},
   "outputs": [],
   "source": [
    "dir_martin = \"./GSE134809_adata_celltype_annotation_dream.h5ad\"\n",
    "adata_martin = sc.read(dir_martin)"
   ]
  },
  {
   "cell_type": "code",
   "execution_count": null,
   "metadata": {},
   "outputs": [],
   "source": [
    "dir_brca = \"./GPL16791_breast_cancer_annotation.h5ad\"\n",
    "adata_brca = sc.read(dir_brca)\n"
   ]
  },
  {
   "cell_type": "code",
   "execution_count": 2,
   "metadata": {},
   "outputs": [],
   "source": [
    "# TODO only take crc patients\n",
    "dir_crc = \"./crc_anndata.h5ad\"\n",
    "adata_crc = sc.read(dir_crc)"
   ]
  },
  {
   "cell_type": "code",
   "execution_count": null,
   "metadata": {
    "scrolled": true
   },
   "outputs": [],
   "source": [
    "dir_smillie = \"./Smillie2019_adata_celltype_annotation_dream.h5ad\"\n",
    "adata_smillie = sc.read(dir_smillie)"
   ]
  },
  {
   "cell_type": "code",
   "execution_count": null,
   "metadata": {},
   "outputs": [],
   "source": [
    "martin_annot = adata_martin.obs['celltype_dream']\n",
    "martin_annot.to_csv('./martin_annot.csv', index=False, header=False)\n",
    "\n",
    "brca_annot = adata_brca.obs['celltype_dream']\n",
    "brca_annot.to_csv('./brca_annot.csv', index=False, header=False)\n",
    "\n",
    "smillie_annot = adata_smillie.obs['celltype_dream']\n",
    "smillie_annot.to_csv('./smillie_annot.csv', index=False, header=False)\n",
    "\n",
    "crc_annot = adata_crc.obs['celltype_dream']\n",
    "crc_annot.to_csv('./crc_annot.csv', index=False, header=False)"
   ]
  },
  {
   "cell_type": "markdown",
   "metadata": {},
   "source": [
    "### CRC dataset - subset only tumour patients"
   ]
  },
  {
   "cell_type": "code",
   "execution_count": 4,
   "metadata": {},
   "outputs": [
    {
     "data": {
      "text/html": [
       "<div>\n",
       "<style scoped>\n",
       "    .dataframe tbody tr th:only-of-type {\n",
       "        vertical-align: middle;\n",
       "    }\n",
       "\n",
       "    .dataframe tbody tr th {\n",
       "        vertical-align: top;\n",
       "    }\n",
       "\n",
       "    .dataframe thead th {\n",
       "        text-align: right;\n",
       "    }\n",
       "</style>\n",
       "<table border=\"1\" class=\"dataframe\">\n",
       "  <thead>\n",
       "    <tr style=\"text-align: right;\">\n",
       "      <th></th>\n",
       "      <th>CELL</th>\n",
       "      <th>CONDITION</th>\n",
       "      <th>Patient</th>\n",
       "      <th>Tissue</th>\n",
       "      <th>Sample</th>\n",
       "      <th>Cell_type</th>\n",
       "      <th>Cell_subtype</th>\n",
       "      <th>percent_mito</th>\n",
       "      <th>n_counts</th>\n",
       "      <th>n_genes</th>\n",
       "      <th>...</th>\n",
       "      <th>MHumanCD45p_scseqCMs6_Eff</th>\n",
       "      <th>MkHumanCD45p_scseqCMs6_Eff</th>\n",
       "      <th>MHumanCD45p_scseqCMs6_Endo</th>\n",
       "      <th>MkHumanCD45p_scseqCMs6_Endo</th>\n",
       "      <th>clusterID</th>\n",
       "      <th>cell_names</th>\n",
       "      <th>cell_group</th>\n",
       "      <th>scell_group</th>\n",
       "      <th>sscell_group</th>\n",
       "      <th>celltype_dream</th>\n",
       "    </tr>\n",
       "    <tr>\n",
       "      <th>index</th>\n",
       "      <th></th>\n",
       "      <th></th>\n",
       "      <th></th>\n",
       "      <th></th>\n",
       "      <th></th>\n",
       "      <th></th>\n",
       "      <th></th>\n",
       "      <th></th>\n",
       "      <th></th>\n",
       "      <th></th>\n",
       "      <th></th>\n",
       "      <th></th>\n",
       "      <th></th>\n",
       "      <th></th>\n",
       "      <th></th>\n",
       "      <th></th>\n",
       "      <th></th>\n",
       "      <th></th>\n",
       "      <th></th>\n",
       "      <th></th>\n",
       "      <th></th>\n",
       "    </tr>\n",
       "  </thead>\n",
       "  <tbody>\n",
       "    <tr>\n",
       "      <th>SMC01-T_AAACCTGCATACGCCG</th>\n",
       "      <td>SMC01-T_AAACCTGCATACGCCG</td>\n",
       "      <td>Tumor</td>\n",
       "      <td>SMC01</td>\n",
       "      <td>Tumor</td>\n",
       "      <td>SMC01-T</td>\n",
       "      <td>Epithelial cells</td>\n",
       "      <td>CMS2</td>\n",
       "      <td>0.0</td>\n",
       "      <td>33782.0</td>\n",
       "      <td>4782</td>\n",
       "      <td>...</td>\n",
       "      <td>-0.184670</td>\n",
       "      <td>0.250</td>\n",
       "      <td>-0.048650</td>\n",
       "      <td>0.076923</td>\n",
       "      <td>C17.nCD45.Epi...nNa.nCC.nCy.nCh.nAc</td>\n",
       "      <td>C17Epi</td>\n",
       "      <td>Epi</td>\n",
       "      <td>Epi</td>\n",
       "      <td>Epi</td>\n",
       "      <td>epithelial.cells</td>\n",
       "    </tr>\n",
       "    <tr>\n",
       "      <th>SMC01-T_AAACCTGGTCGCATAT</th>\n",
       "      <td>SMC01-T_AAACCTGGTCGCATAT</td>\n",
       "      <td>Tumor</td>\n",
       "      <td>SMC01</td>\n",
       "      <td>Tumor</td>\n",
       "      <td>SMC01-T</td>\n",
       "      <td>Epithelial cells</td>\n",
       "      <td>CMS2</td>\n",
       "      <td>0.0</td>\n",
       "      <td>31032.0</td>\n",
       "      <td>5160</td>\n",
       "      <td>...</td>\n",
       "      <td>-0.276030</td>\n",
       "      <td>0.125</td>\n",
       "      <td>-0.047704</td>\n",
       "      <td>0.076923</td>\n",
       "      <td>C17.nCD45.Epi...nNa.nCC.nCy.nCh.nAc</td>\n",
       "      <td>C17Epi</td>\n",
       "      <td>Epi</td>\n",
       "      <td>Epi</td>\n",
       "      <td>Epi</td>\n",
       "      <td>epithelial.cells</td>\n",
       "    </tr>\n",
       "    <tr>\n",
       "      <th>SMC01-T_AAACCTGTCCCTTGCA</th>\n",
       "      <td>SMC01-T_AAACCTGTCCCTTGCA</td>\n",
       "      <td>Tumor</td>\n",
       "      <td>SMC01</td>\n",
       "      <td>Tumor</td>\n",
       "      <td>SMC01-T</td>\n",
       "      <td>Epithelial cells</td>\n",
       "      <td>CMS2</td>\n",
       "      <td>0.0</td>\n",
       "      <td>6092.0</td>\n",
       "      <td>1677</td>\n",
       "      <td>...</td>\n",
       "      <td>-0.122945</td>\n",
       "      <td>0.125</td>\n",
       "      <td>-0.033656</td>\n",
       "      <td>0.000000</td>\n",
       "      <td>C17.nCD45.Epi...nNa.nCC.nCy.nCh.nAc</td>\n",
       "      <td>C17Epi</td>\n",
       "      <td>Epi</td>\n",
       "      <td>Epi</td>\n",
       "      <td>Epi</td>\n",
       "      <td>epithelial.cells</td>\n",
       "    </tr>\n",
       "    <tr>\n",
       "      <th>SMC01-T_AAACGGGAGGGAAACA</th>\n",
       "      <td>SMC01-T_AAACGGGAGGGAAACA</td>\n",
       "      <td>Tumor</td>\n",
       "      <td>SMC01</td>\n",
       "      <td>Tumor</td>\n",
       "      <td>SMC01-T</td>\n",
       "      <td>Epithelial cells</td>\n",
       "      <td>CMS2</td>\n",
       "      <td>0.0</td>\n",
       "      <td>3413.0</td>\n",
       "      <td>1193</td>\n",
       "      <td>...</td>\n",
       "      <td>-0.261535</td>\n",
       "      <td>0.000</td>\n",
       "      <td>-0.029198</td>\n",
       "      <td>0.000000</td>\n",
       "      <td>C17.nCD45.Epi...nNa.nCC.nCy.nCh.nAc</td>\n",
       "      <td>C17Epi</td>\n",
       "      <td>Epi</td>\n",
       "      <td>Epi</td>\n",
       "      <td>Epi</td>\n",
       "      <td>epithelial.cells</td>\n",
       "    </tr>\n",
       "    <tr>\n",
       "      <th>SMC01-T_AAACGGGGTATAGGTA</th>\n",
       "      <td>SMC01-T_AAACGGGGTATAGGTA</td>\n",
       "      <td>Tumor</td>\n",
       "      <td>SMC01</td>\n",
       "      <td>Tumor</td>\n",
       "      <td>SMC01-T</td>\n",
       "      <td>Epithelial cells</td>\n",
       "      <td>CMS2</td>\n",
       "      <td>0.0</td>\n",
       "      <td>20416.0</td>\n",
       "      <td>3843</td>\n",
       "      <td>...</td>\n",
       "      <td>-0.375577</td>\n",
       "      <td>0.000</td>\n",
       "      <td>-0.036710</td>\n",
       "      <td>0.076923</td>\n",
       "      <td>C17.nCD45.Epi...nNa.nCC.nCy.nCh.nAc</td>\n",
       "      <td>C17Epi</td>\n",
       "      <td>Epi</td>\n",
       "      <td>Epi</td>\n",
       "      <td>Epi</td>\n",
       "      <td>epithelial.cells</td>\n",
       "    </tr>\n",
       "  </tbody>\n",
       "</table>\n",
       "<p>5 rows × 49 columns</p>\n",
       "</div>"
      ],
      "text/plain": [
       "                                              CELL CONDITION Patient Tissue  \\\n",
       "index                                                                         \n",
       "SMC01-T_AAACCTGCATACGCCG  SMC01-T_AAACCTGCATACGCCG     Tumor   SMC01  Tumor   \n",
       "SMC01-T_AAACCTGGTCGCATAT  SMC01-T_AAACCTGGTCGCATAT     Tumor   SMC01  Tumor   \n",
       "SMC01-T_AAACCTGTCCCTTGCA  SMC01-T_AAACCTGTCCCTTGCA     Tumor   SMC01  Tumor   \n",
       "SMC01-T_AAACGGGAGGGAAACA  SMC01-T_AAACGGGAGGGAAACA     Tumor   SMC01  Tumor   \n",
       "SMC01-T_AAACGGGGTATAGGTA  SMC01-T_AAACGGGGTATAGGTA     Tumor   SMC01  Tumor   \n",
       "\n",
       "                           Sample         Cell_type Cell_subtype  \\\n",
       "index                                                              \n",
       "SMC01-T_AAACCTGCATACGCCG  SMC01-T  Epithelial cells         CMS2   \n",
       "SMC01-T_AAACCTGGTCGCATAT  SMC01-T  Epithelial cells         CMS2   \n",
       "SMC01-T_AAACCTGTCCCTTGCA  SMC01-T  Epithelial cells         CMS2   \n",
       "SMC01-T_AAACGGGAGGGAAACA  SMC01-T  Epithelial cells         CMS2   \n",
       "SMC01-T_AAACGGGGTATAGGTA  SMC01-T  Epithelial cells         CMS2   \n",
       "\n",
       "                          percent_mito  n_counts  n_genes  ...  \\\n",
       "index                                                      ...   \n",
       "SMC01-T_AAACCTGCATACGCCG           0.0   33782.0     4782  ...   \n",
       "SMC01-T_AAACCTGGTCGCATAT           0.0   31032.0     5160  ...   \n",
       "SMC01-T_AAACCTGTCCCTTGCA           0.0    6092.0     1677  ...   \n",
       "SMC01-T_AAACGGGAGGGAAACA           0.0    3413.0     1193  ...   \n",
       "SMC01-T_AAACGGGGTATAGGTA           0.0   20416.0     3843  ...   \n",
       "\n",
       "                         MHumanCD45p_scseqCMs6_Eff  \\\n",
       "index                                                \n",
       "SMC01-T_AAACCTGCATACGCCG                 -0.184670   \n",
       "SMC01-T_AAACCTGGTCGCATAT                 -0.276030   \n",
       "SMC01-T_AAACCTGTCCCTTGCA                 -0.122945   \n",
       "SMC01-T_AAACGGGAGGGAAACA                 -0.261535   \n",
       "SMC01-T_AAACGGGGTATAGGTA                 -0.375577   \n",
       "\n",
       "                          MkHumanCD45p_scseqCMs6_Eff  \\\n",
       "index                                                  \n",
       "SMC01-T_AAACCTGCATACGCCG                       0.250   \n",
       "SMC01-T_AAACCTGGTCGCATAT                       0.125   \n",
       "SMC01-T_AAACCTGTCCCTTGCA                       0.125   \n",
       "SMC01-T_AAACGGGAGGGAAACA                       0.000   \n",
       "SMC01-T_AAACGGGGTATAGGTA                       0.000   \n",
       "\n",
       "                          MHumanCD45p_scseqCMs6_Endo  \\\n",
       "index                                                  \n",
       "SMC01-T_AAACCTGCATACGCCG                   -0.048650   \n",
       "SMC01-T_AAACCTGGTCGCATAT                   -0.047704   \n",
       "SMC01-T_AAACCTGTCCCTTGCA                   -0.033656   \n",
       "SMC01-T_AAACGGGAGGGAAACA                   -0.029198   \n",
       "SMC01-T_AAACGGGGTATAGGTA                   -0.036710   \n",
       "\n",
       "                          MkHumanCD45p_scseqCMs6_Endo  \\\n",
       "index                                                   \n",
       "SMC01-T_AAACCTGCATACGCCG                     0.076923   \n",
       "SMC01-T_AAACCTGGTCGCATAT                     0.076923   \n",
       "SMC01-T_AAACCTGTCCCTTGCA                     0.000000   \n",
       "SMC01-T_AAACGGGAGGGAAACA                     0.000000   \n",
       "SMC01-T_AAACGGGGTATAGGTA                     0.076923   \n",
       "\n",
       "                                                    clusterID  cell_names  \\\n",
       "index                                                                       \n",
       "SMC01-T_AAACCTGCATACGCCG  C17.nCD45.Epi...nNa.nCC.nCy.nCh.nAc      C17Epi   \n",
       "SMC01-T_AAACCTGGTCGCATAT  C17.nCD45.Epi...nNa.nCC.nCy.nCh.nAc      C17Epi   \n",
       "SMC01-T_AAACCTGTCCCTTGCA  C17.nCD45.Epi...nNa.nCC.nCy.nCh.nAc      C17Epi   \n",
       "SMC01-T_AAACGGGAGGGAAACA  C17.nCD45.Epi...nNa.nCC.nCy.nCh.nAc      C17Epi   \n",
       "SMC01-T_AAACGGGGTATAGGTA  C17.nCD45.Epi...nNa.nCC.nCy.nCh.nAc      C17Epi   \n",
       "\n",
       "                          cell_group  scell_group  sscell_group  \\\n",
       "index                                                             \n",
       "SMC01-T_AAACCTGCATACGCCG         Epi          Epi           Epi   \n",
       "SMC01-T_AAACCTGGTCGCATAT         Epi          Epi           Epi   \n",
       "SMC01-T_AAACCTGTCCCTTGCA         Epi          Epi           Epi   \n",
       "SMC01-T_AAACGGGAGGGAAACA         Epi          Epi           Epi   \n",
       "SMC01-T_AAACGGGGTATAGGTA         Epi          Epi           Epi   \n",
       "\n",
       "                            celltype_dream  \n",
       "index                                       \n",
       "SMC01-T_AAACCTGCATACGCCG  epithelial.cells  \n",
       "SMC01-T_AAACCTGGTCGCATAT  epithelial.cells  \n",
       "SMC01-T_AAACCTGTCCCTTGCA  epithelial.cells  \n",
       "SMC01-T_AAACGGGAGGGAAACA  epithelial.cells  \n",
       "SMC01-T_AAACGGGGTATAGGTA  epithelial.cells  \n",
       "\n",
       "[5 rows x 49 columns]"
      ]
     },
     "execution_count": 4,
     "metadata": {},
     "output_type": "execute_result"
    }
   ],
   "source": [
    "adata_crc.obs.head()"
   ]
  },
  {
   "cell_type": "code",
   "execution_count": 10,
   "metadata": {},
   "outputs": [],
   "source": [
    "t_idx = adata_crc.obs.loc[adata_crc.obs['CONDITION']=='Tumor'].index\n",
    "crc_tumor = adata_crc[t_idx].copy()"
   ]
  },
  {
   "cell_type": "code",
   "execution_count": null,
   "metadata": {
    "scrolled": true
   },
   "outputs": [],
   "source": [
    "# check if patient index separable using '-': for BisqueRNA::SeuratToExpressionset conversion\n",
    "idx = crc_tumor.obs.index\n",
    "subjects = [i.split('-')[0] for i in idx]\n",
    "set(subjects)"
   ]
  },
  {
   "cell_type": "code",
   "execution_count": 15,
   "metadata": {},
   "outputs": [],
   "source": [
    "# set main X to raw.X\n",
    "\n",
    "obs = crc_tumor.obs\n",
    "var = crc_tumor.raw.var\n",
    "uns = crc_tumor.uns\n",
    "raw = crc_tumor.raw\n",
    "\n",
    "crc_tumor_raw = anndata.AnnData(raw.X, obs=obs, var=var, uns=uns, raw=raw)\n",
    "crc_tumor_raw.write(os.path.join('./', 'crc_tumor_raw.h5ad'))\n",
    "\n",
    "# export annot as converting to R object will replace them with factors\n",
    "crc_tumor_raw_annot = crc_tumor_raw.obs['celltype_dream']\n",
    "crc_tumor_raw_annot.to_csv('./crc_tumor_annot.csv', index=False, header=False)"
   ]
  },
  {
   "cell_type": "markdown",
   "metadata": {},
   "source": [
    "convert to R obj"
   ]
  },
  {
   "cell_type": "code",
   "execution_count": 16,
   "metadata": {},
   "outputs": [],
   "source": [
    "import anndata2ri\n",
    "anndata2ri.activate()"
   ]
  },
  {
   "cell_type": "code",
   "execution_count": 17,
   "metadata": {},
   "outputs": [],
   "source": [
    "%load_ext rpy2.ipython"
   ]
  },
  {
   "cell_type": "code",
   "execution_count": 18,
   "metadata": {},
   "outputs": [],
   "source": [
    "%%R -i crc_tumor_raw\n",
    "saveRDS(crc_tumor_raw, 'crc_tumor_raw_sce.RDS')"
   ]
  },
  {
   "cell_type": "code",
   "execution_count": null,
   "metadata": {},
   "outputs": [],
   "source": []
  },
  {
   "cell_type": "markdown",
   "metadata": {},
   "source": [
    "### Subset datasets using Geosketch\n",
    "\n",
    "SCDC too slow with full datasets. Aim for max 8000 cells in total"
   ]
  },
  {
   "cell_type": "code",
   "execution_count": null,
   "metadata": {},
   "outputs": [],
   "source": [
    "def geosketch_subsample(adata, N=4000, filename='adata_geosketch.h5ad', column='<last_column>', raw=True):\n",
    "    \n",
    "    if (column == '<last_column>'):\n",
    "        column = adata.obs.columns[-1]\n",
    "    print('Initiating Geosketch. This process may take a while for large datasets.')\n",
    "    if raw:\n",
    "        E = adata.raw.X.toarray() # convert from sparse to ndarray\n",
    "        sketch_index = gs(E, N, replace=False, verbose=True)\n",
    "        X_sketch = E[sketch_index]\n",
    "        var = adata.raw.var\n",
    "        raw_dat = None\n",
    "        \n",
    "    else:\n",
    "        sketch_index = gs(adata.X, N, replace=False, verbose=True)\n",
    "        X_sketch = adata.X[sketch_index]\n",
    "        var = adata.var\n",
    "        raw_dat = adata.raw[sketch_index]\n",
    "        \n",
    "    obs = adata.obs.iloc[sketch_index]\n",
    "    uns = adata.uns.copy()\n",
    "    rmkeys = ['neighbors', 'pca', 'rank_genes_groups'] # remove these entries from adata.uns as they cause issues with geosketching\n",
    "    for key in rmkeys:\n",
    "        uns.pop(key, None)\n",
    "\n",
    "    \n",
    "    adata_sub = anndata.AnnData(X_sketch, obs=obs, var=var, uns=uns, raw=raw_dat)\n",
    "    adata_sub.write(os.path.join('./', filename))\n",
    "\n",
    "    anno = adata_sub.obs[column]\n",
    "    anno.to_csv(os.path.join('./', filename.split('.')[0] + '_scanno.csv'), index=False, header=False)\n",
    "    \n",
    "    return adata_sub\n"
   ]
  },
  {
   "cell_type": "code",
   "execution_count": null,
   "metadata": {},
   "outputs": [],
   "source": [
    "geosketch_subsample(adata_brca, filename='brca_raw_geosketch.h5ad', raw=True)"
   ]
  },
  {
   "cell_type": "code",
   "execution_count": null,
   "metadata": {},
   "outputs": [],
   "source": [
    "geosketch_subsample(adata_martin, filename='martin_raw_geosketch.h5ad', raw=True)"
   ]
  },
  {
   "cell_type": "code",
   "execution_count": null,
   "metadata": {},
   "outputs": [],
   "source": [
    "adata_crc_geo = geosketch_subsample(adata_crc, filename='crc_raw_geosketch.h5ad', raw=False)"
   ]
  },
  {
   "cell_type": "markdown",
   "metadata": {},
   "source": [
    "keep_keys = ['louvain', 'louvain_colors', 'neighbors', 'pca', 'rank_genes_groups']\n",
    "ks = adata_martin.uns.copy().keys()\n",
    "for k in ks:\n",
    "    if k not in keep_keys:\n",
    "        adata_martin.uns.pop(k, None)\n",
    "        \n",
    "ks = adata_brca.uns.copy().keys()\n",
    "for k in ks:\n",
    "    if k not in keep_keys:\n",
    "        adata_brca.uns.pop(k, None)"
   ]
  },
  {
   "cell_type": "markdown",
   "metadata": {},
   "source": [
    "### brca select only tumour patients & non sparse data"
   ]
  },
  {
   "cell_type": "code",
   "execution_count": null,
   "metadata": {},
   "outputs": [],
   "source": [
    "# only select tumour samples\n",
    "idx = adata_brca.obs.index\n",
    "new_idx = []\n",
    "\n",
    "for i, value in enumerate(idx):\n",
    "    if 'TUMOR' in value:\n",
    "        new_idx.append(i)\n",
    "        \n"
   ]
  },
  {
   "cell_type": "code",
   "execution_count": null,
   "metadata": {},
   "outputs": [],
   "source": [
    "brca_tumour = adata_brca[new_idx].copy()"
   ]
  },
  {
   "cell_type": "code",
   "execution_count": null,
   "metadata": {},
   "outputs": [],
   "source": [
    "idx = brca_tumour.obs.index\n",
    "new_idx = [i.replace('_','-') for i in idx]\n",
    "brca_tumour.obs.index = new_idx"
   ]
  },
  {
   "cell_type": "code",
   "execution_count": null,
   "metadata": {},
   "outputs": [],
   "source": [
    "# export raw\n",
    "obs = brca_tumour.obs\n",
    "var = brca_tumour.raw.var\n",
    "uns = brca_tumour.uns\n",
    "raw = brca_tumour.raw\n",
    "\n",
    "brca_tumour_raw = anndata.AnnData(raw.X, obs=obs, var=var, uns=uns, raw=raw)\n",
    "brca_tumour_raw.write(os.path.join('./', 'brca_raw_tumour_only.h5ad'))"
   ]
  },
  {
   "cell_type": "code",
   "execution_count": null,
   "metadata": {},
   "outputs": [],
   "source": [
    "brca_tumour_raw_annot = brca_tumour_raw.obs['celltype_dream']\n",
    "brca_tumour_raw_annot.to_csv('./brca_tumor_annot.csv', index=False, header=False)"
   ]
  },
  {
   "cell_type": "code",
   "execution_count": null,
   "metadata": {},
   "outputs": [],
   "source": [
    "brca_tumour_raw.obs.head()"
   ]
  },
  {
   "cell_type": "markdown",
   "metadata": {},
   "source": [
    "### Subset adata.raw\n"
   ]
  },
  {
   "cell_type": "code",
   "execution_count": null,
   "metadata": {},
   "outputs": [],
   "source": [
    "idx = adata_martin_sub.obs.index\n",
    "geo_idx = adata_martin.obs.index.isin(idx)\n",
    "rawX = adata_martin.raw.X[geo_idx]"
   ]
  },
  {
   "cell_type": "code",
   "execution_count": null,
   "metadata": {},
   "outputs": [],
   "source": []
  },
  {
   "cell_type": "code",
   "execution_count": null,
   "metadata": {},
   "outputs": [],
   "source": [
    "# dirty way\n",
    "obs = adata_martin_sub.obs\n",
    "var = adata_martin_sub.raw.var\n",
    "uns = adata_martin_sub.uns\n",
    "raw = adata_martin_sub.raw\n",
    "\n",
    "adata_martin_raw = anndata.AnnData(raw.X, obs=obs, var=var, uns=uns, raw=raw)\n",
    "adata_martin_raw.write('martin_geosketch_raw.h5ad')"
   ]
  },
  {
   "cell_type": "code",
   "execution_count": null,
   "metadata": {},
   "outputs": [],
   "source": [
    "obs = adata_brca_sub.obs\n",
    "var = adata_brca_sub.raw.var\n",
    "uns = adata_brca_sub.uns\n",
    "raw = adata_brca_sub.raw\n",
    "\n",
    "adata_brca_raw = anndata.AnnData(raw.X, obs=obs, var=var, uns=uns, raw=raw)\n",
    "adata_brca_raw.write('brca_geosketch_raw.h5ad')"
   ]
  },
  {
   "cell_type": "code",
   "execution_count": null,
   "metadata": {},
   "outputs": [],
   "source": [
    "\n",
    "obs = adata_crc_geo.obs\n",
    "var = adata_crc_geo.raw.var\n",
    "uns = adata_crc_geo.uns\n",
    "raw = adata_crc_geo.raw\n",
    "\n",
    "adata_crc_raw = anndata.AnnData(raw.X, obs=obs, var=var, uns=uns, raw=raw)\n",
    "adata_crc_raw.write('crc_raw_geosketch.h5ad')"
   ]
  },
  {
   "cell_type": "markdown",
   "metadata": {},
   "source": [
    "set raw.X as X for full non-geoskchetch dataset"
   ]
  },
  {
   "cell_type": "code",
   "execution_count": null,
   "metadata": {},
   "outputs": [],
   "source": [
    "adata_brca\n",
    "adata_martin"
   ]
  },
  {
   "cell_type": "code",
   "execution_count": null,
   "metadata": {},
   "outputs": [],
   "source": [
    "obs = adata_brca.obs\n",
    "var = adata_brca.raw.var\n",
    "uns = adata_brca.uns\n",
    "raw = adata_brca.raw\n",
    "\n",
    "adata_brca_raw = anndata.AnnData(raw.X, obs=obs, var=var, uns=uns, raw=raw)\n",
    "adata_brca_raw.write('brca_raw.h5ad')"
   ]
  },
  {
   "cell_type": "code",
   "execution_count": null,
   "metadata": {},
   "outputs": [],
   "source": [
    "obs = adata_martin.obs\n",
    "var = adata_martin.raw.var\n",
    "uns = adata_martin.uns\n",
    "raw = adata_martin.raw\n",
    "\n",
    "adata_martin_raw = anndata.AnnData(raw.X, obs=obs, var=var, uns=uns, raw=raw)\n",
    "adata_martin_raw.write('martin_raw.h5ad')"
   ]
  },
  {
   "cell_type": "markdown",
   "metadata": {},
   "source": [
    "### Martin data - are there too many missing cell types?"
   ]
  },
  {
   "cell_type": "code",
   "execution_count": null,
   "metadata": {},
   "outputs": [],
   "source": [
    "adata_martin.obs.loc[adata_martin.obs['Subject'] == 'pat. 5']['celltype_dream'].unique()"
   ]
  },
  {
   "cell_type": "code",
   "execution_count": null,
   "metadata": {},
   "outputs": [],
   "source": [
    "adata_martin_geo_raw.obs.loc[adata_martin_geo_raw.obs['Subject'] == 'pat. 5']['celltype_dream'].unique()"
   ]
  },
  {
   "cell_type": "code",
   "execution_count": null,
   "metadata": {},
   "outputs": [],
   "source": [
    "adata_brca.obs.head()"
   ]
  },
  {
   "cell_type": "code",
   "execution_count": null,
   "metadata": {},
   "outputs": [],
   "source": [
    "adata_brca.obs.loc[adata_brca.obs['ID'] == 'BC01_BLOOD1']['celltype_dream'].unique()"
   ]
  },
  {
   "cell_type": "code",
   "execution_count": null,
   "metadata": {},
   "outputs": [],
   "source": [
    "adata_brca_geo_raw.obs.loc[adata_brca_geo_raw.obs['ID'] == 'BC01_BLOOD1']['celltype_dream'].unique()"
   ]
  },
  {
   "cell_type": "code",
   "execution_count": null,
   "metadata": {},
   "outputs": [],
   "source": []
  },
  {
   "cell_type": "markdown",
   "metadata": {},
   "source": [
    "### Fix martin index - for BisqueRNA::SeuratToExpressionSet()\n",
    "currently splitting with this index gives two labels per individual as follows"
   ]
  },
  {
   "cell_type": "code",
   "execution_count": null,
   "metadata": {},
   "outputs": [],
   "source": [
    "idx5 = adata_martin_geo_raw.obs.loc[adata_martin_geo_raw.obs['Subject']=='pat. 5'].index\n",
    "ids5 = []\n",
    "for i in idx5:\n",
    "    ids5.append(i.split('.')[0])\n",
    "len(set(ids5))\n",
    "set(ids5)"
   ]
  },
  {
   "cell_type": "markdown",
   "metadata": {},
   "source": [
    "thus fix index"
   ]
  },
  {
   "cell_type": "code",
   "execution_count": null,
   "metadata": {
    "scrolled": true
   },
   "outputs": [],
   "source": [
    "idx = adata_martin.obs.index\n",
    "idx_new = []\n",
    "for i, val in enumerate(idx):\n",
    "    out = adata_martin.obs['Subject'][i].replace(\" \", \"\").replace('.','') + '_' + val.split('_')[1]\n",
    "    idx_new.append(out)"
   ]
  },
  {
   "cell_type": "code",
   "execution_count": null,
   "metadata": {},
   "outputs": [],
   "source": [
    "adata_martin.obs.index = idx_new"
   ]
  },
  {
   "cell_type": "code",
   "execution_count": null,
   "metadata": {},
   "outputs": [],
   "source": [
    "adata_martin.obs.head()"
   ]
  },
  {
   "cell_type": "markdown",
   "metadata": {},
   "source": [
    "### geosketch output analysis\n",
    "\n",
    "check if all subjects still represented, likewise for cell types"
   ]
  },
  {
   "cell_type": "code",
   "execution_count": null,
   "metadata": {},
   "outputs": [],
   "source": [
    "# 11 samples in orig ds\n",
    "adata_martin.obs['Subject'].values.unique()"
   ]
  },
  {
   "cell_type": "code",
   "execution_count": null,
   "metadata": {},
   "outputs": [],
   "source": [
    "# 50 samples in original ds\n",
    "adata_brca.obs['ID'].values.unique()"
   ]
  },
  {
   "cell_type": "code",
   "execution_count": null,
   "metadata": {},
   "outputs": [],
   "source": [
    "adata_brca_geo_raw = sc.read('./brca_geosketch_raw.h5ad')\n",
    "adata_martin_geo_raw = sc.read('./martin_geosketch_raw.h5ad')"
   ]
  },
  {
   "cell_type": "code",
   "execution_count": null,
   "metadata": {},
   "outputs": [],
   "source": [
    "# still 11 subjects\n",
    "adata_martin_geo.obs['Subject'].values.unique()"
   ]
  },
  {
   "cell_type": "code",
   "execution_count": null,
   "metadata": {},
   "outputs": [],
   "source": [
    "# still 50 subjects\n",
    "adata_brca_geo_raw.obs['ID'].values.unique()"
   ]
  },
  {
   "cell_type": "markdown",
   "metadata": {},
   "source": [
    "now check cell types"
   ]
  },
  {
   "cell_type": "code",
   "execution_count": null,
   "metadata": {},
   "outputs": [],
   "source": [
    "# geosketch missing 'naive.CD8.T.cells'\n",
    "x = adata_brca.obs['celltype_dream'].values.unique().tolist()\n",
    "y = adata_brca_geo_raw.obs['celltype_dream'].values.unique().tolist()\n",
    "set(x) - set(y)"
   ]
  },
  {
   "cell_type": "code",
   "execution_count": null,
   "metadata": {},
   "outputs": [],
   "source": [
    "# geosketch missing 'naive.CD8.T.cells'\n",
    "x = adata_martin.obs['celltype_dream'].values.unique().tolist()\n",
    "y = adata_martin_geo_raw.obs['celltype_dream'].values.unique().tolist()\n",
    "set(x) - set(y)"
   ]
  },
  {
   "cell_type": "markdown",
   "metadata": {},
   "source": [
    "### Convert to SingleCellExperiment R Object\n",
    "\n",
    "saves anndata as SCE object. Postprocess in R\n",
    "\n",
    "based on tutorial here: https://github.com/LuckyMD/Code_snippets/blob/master/Seurat_to_anndata.ipynb"
   ]
  },
  {
   "cell_type": "code",
   "execution_count": null,
   "metadata": {},
   "outputs": [],
   "source": [
    "import anndata2ri\n",
    "anndata2ri.activate()"
   ]
  },
  {
   "cell_type": "code",
   "execution_count": null,
   "metadata": {},
   "outputs": [],
   "source": [
    "%load_ext rpy2.ipython"
   ]
  },
  {
   "cell_type": "code",
   "execution_count": null,
   "metadata": {},
   "outputs": [],
   "source": [
    "%%R -i brca_tumour_raw\n",
    "saveRDS(brca_tumour_raw, 'brca_raw_tumour_only_sce.RDS')"
   ]
  },
  {
   "cell_type": "code",
   "execution_count": null,
   "metadata": {},
   "outputs": [],
   "source": [
    "%%R -i adata_brca_raw\n",
    "saveRDS(adata_brca_raw, 'brca_raw_sce.RDS')"
   ]
  },
  {
   "cell_type": "code",
   "execution_count": null,
   "metadata": {},
   "outputs": [],
   "source": [
    "# do brca\n",
    "adata_brca_sub = sc.read('brca_geosketch.h5ad')"
   ]
  },
  {
   "cell_type": "code",
   "execution_count": null,
   "metadata": {},
   "outputs": [],
   "source": [
    "%%R -i adata_brca_sub\n",
    "saveRDS(adata_brca_sub, 'brca_sce.RDS')"
   ]
  },
  {
   "cell_type": "code",
   "execution_count": null,
   "metadata": {},
   "outputs": [],
   "source": [
    "%%R -i adata_martin_raw\n",
    "saveRDS(adata_martin_raw, 'martin_raw_sce.RDS')"
   ]
  },
  {
   "cell_type": "code",
   "execution_count": null,
   "metadata": {},
   "outputs": [],
   "source": [
    "%%R -i adata_brca_raw\n",
    "saveRDS(adata_brca_raw, 'brca_raw_sce.RDS')"
   ]
  },
  {
   "cell_type": "code",
   "execution_count": null,
   "metadata": {
    "scrolled": true
   },
   "outputs": [],
   "source": [
    "#%%R -i adata_martin\n",
    "#library(Seurat)\n",
    "#martin.seurat <- as.Seurat(adata_martin)\n",
    "#saveRDS(martin.seurat, 'martin_seurat.RDS')"
   ]
  },
  {
   "cell_type": "markdown",
   "metadata": {},
   "source": [
    "### Notes converting SCE to eset in R\n",
    "\n",
    "run from cmd line: `env R_MAX_VSIZE=100Gb R`"
   ]
  },
  {
   "cell_type": "markdown",
   "metadata": {},
   "source": [
    "### Fix issues loading martin ds in R ReadH5AD: \n",
    "Error in file[[\"obs\"]][] : object of type 'environment' is not subsettable\n",
    "\n",
    "Note: these were not needed. the issue was with a bug in AnnData new version: https://github.com/satijalab/seurat/issues/2485"
   ]
  },
  {
   "cell_type": "code",
   "execution_count": null,
   "metadata": {},
   "outputs": [],
   "source": [
    "adata_martin_sub.obs.head()\n",
    "# thus in R: \n",
    "# out.eset <- BisqueRNA::SeuratToExpressionSet(seurat, delimiter='_', position=2, version = 'v3')"
   ]
  },
  {
   "cell_type": "code",
   "execution_count": null,
   "metadata": {},
   "outputs": [],
   "source": [
    "adata_brca_sub.obs.head()\n"
   ]
  },
  {
   "cell_type": "code",
   "execution_count": null,
   "metadata": {},
   "outputs": [],
   "source": [
    "adata_martin.obs.columns"
   ]
  },
  {
   "cell_type": "code",
   "execution_count": null,
   "metadata": {},
   "outputs": [],
   "source": [
    "rmkeys = ['neighbors', 'pca', 'rank_genes_groups', 'celltype_dream_colors']\n",
    "for key in rmkeys:\n",
    "    adata_martin.uns.pop(key, None)"
   ]
  },
  {
   "cell_type": "code",
   "execution_count": null,
   "metadata": {},
   "outputs": [],
   "source": [
    "adata_martin.uns.keys()"
   ]
  },
  {
   "cell_type": "code",
   "execution_count": null,
   "metadata": {},
   "outputs": [],
   "source": [
    "keep_keys = ['louvain', 'louvain_colors', 'neighbors', 'pca', 'rank_genes_groups']\n",
    "ks = adata_martin.uns.copy().keys()\n",
    "for k in ks:\n",
    "    if k not in keep_keys:\n",
    "        adata_martin.uns.pop(k, None)"
   ]
  },
  {
   "cell_type": "code",
   "execution_count": null,
   "metadata": {},
   "outputs": [],
   "source": [
    "adata_martin.write(filename='./martin_anndata07rc1.h5ad')"
   ]
  },
  {
   "cell_type": "markdown",
   "metadata": {},
   "source": [
    "### Check SCDC error\n",
    "Error in y[y < q15] <- q15[y < q15] :\n",
    "NAs are not allowed in subscripted assignments\n",
    "In addition: There were 50 or more warnings (use warnings() to see the first 50)\n",
    "\n",
    "In FUN(newX[, i], ...) : no non-missing arguments to max; returning -Inf"
   ]
  },
  {
   "cell_type": "code",
   "execution_count": null,
   "metadata": {},
   "outputs": [],
   "source": [
    "# check if NaNs in datasets\n",
    "np.isnan(adata_martin.X).any()"
   ]
  },
  {
   "cell_type": "code",
   "execution_count": null,
   "metadata": {},
   "outputs": [],
   "source": [
    "np.isnan(adata_brca.X).any()"
   ]
  },
  {
   "cell_type": "markdown",
   "metadata": {},
   "source": [
    "### reduce number of features\n",
    "\n",
    "scdc too slow"
   ]
  },
  {
   "cell_type": "code",
   "execution_count": null,
   "metadata": {},
   "outputs": [],
   "source": [
    "# remove others?\n",
    "adata_brca.obs.loc[adata_brca.obs['celltype_dream']=='others']"
   ]
  },
  {
   "cell_type": "code",
   "execution_count": null,
   "metadata": {},
   "outputs": [],
   "source": [
    "adata_martin.obs.loc[adata_martin.obs['celltype_dream']=='others']"
   ]
  },
  {
   "cell_type": "markdown",
   "metadata": {},
   "source": [
    "### determine missing celltypes for each dataset "
   ]
  },
  {
   "cell_type": "code",
   "execution_count": null,
   "metadata": {},
   "outputs": [],
   "source": [
    "ct_b = adata_brca.obs['celltype_dream'].values.unique().tolist()"
   ]
  },
  {
   "cell_type": "code",
   "execution_count": null,
   "metadata": {},
   "outputs": [],
   "source": [
    "ct_m = adata_martin.obs['celltype_dream'].values.unique().tolist()"
   ]
  },
  {
   "cell_type": "code",
   "execution_count": null,
   "metadata": {},
   "outputs": [],
   "source": [
    "ct_s = adata_smillie.obs['celltype_dream'].values.unique().tolist()"
   ]
  },
  {
   "cell_type": "code",
   "execution_count": null,
   "metadata": {},
   "outputs": [],
   "source": [
    "# dream celltypes \n",
    "ct = \"\"\"memory.B.cells\n",
    "naive.B.cells\n",
    "memory.CD4.T.cells\n",
    "naive.CD4.T.cells\n",
    "regulatory.T.cells\n",
    "memory.CD8.T.cells\n",
    "naive.CD8.T.cells\n",
    "NK.cells\n",
    "neutrophils\n",
    "monocytes\n",
    "myeloid.dendritic.cells\n",
    "macrophages\n",
    "fibroblasts\n",
    "endothelial.cells\"\"\".split()"
   ]
  },
  {
   "cell_type": "code",
   "execution_count": null,
   "metadata": {},
   "outputs": [],
   "source": [
    "# intersection dream x brca\n",
    "set(ct) & set(ct_b)"
   ]
  },
  {
   "cell_type": "code",
   "execution_count": null,
   "metadata": {},
   "outputs": [],
   "source": [
    "list(set(ct) - set(ct_m))"
   ]
  },
  {
   "cell_type": "code",
   "execution_count": null,
   "metadata": {},
   "outputs": [],
   "source": [
    "# brca dataset has all required celltypes\n",
    "list(set(ct) - set(ct_b))"
   ]
  },
  {
   "cell_type": "code",
   "execution_count": null,
   "metadata": {},
   "outputs": [],
   "source": [
    "# intersect brca x martin\n",
    "set(ct_b) & set(ct_m)"
   ]
  },
  {
   "cell_type": "code",
   "execution_count": null,
   "metadata": {},
   "outputs": [],
   "source": [
    "# brca x smillie\n",
    "set(ct_b) & set(ct_s)"
   ]
  },
  {
   "cell_type": "code",
   "execution_count": null,
   "metadata": {},
   "outputs": [],
   "source": [
    "print(','.join(\"'{0}'\".format(w) for w in ct))"
   ]
  },
  {
   "cell_type": "markdown",
   "metadata": {},
   "source": [
    "'memory.B.cells','naive.B.cells','memory.CD4.T.cells','naive.CD4.T.cells','regulatory.T.cells','memory.CD8.T.cells','naive.CD8.T.cells','NK.cells','neutrophils','monocytes','myeloid.dendritic.cells','macrophages','fibroblasts','endothelial.cells'"
   ]
  }
 ],
 "metadata": {
  "kernelspec": {
   "display_name": "Python 3",
   "language": "python",
   "name": "python3"
  },
  "language_info": {
   "codemirror_mode": {
    "name": "ipython",
    "version": 3
   },
   "file_extension": ".py",
   "mimetype": "text/x-python",
   "name": "python",
   "nbconvert_exporter": "python",
   "pygments_lexer": "ipython3",
   "version": "3.7.7"
  }
 },
 "nbformat": 4,
 "nbformat_minor": 4
}
